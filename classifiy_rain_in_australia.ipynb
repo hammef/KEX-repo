{
 "cells": [
  {
   "cell_type": "code",
   "execution_count": 1,
   "id": "8e2b6e5d",
   "metadata": {},
   "outputs": [
    {
     "name": "stderr",
     "output_type": "stream",
     "text": [
      "/home/hfridl/.local/lib/python3.8/site-packages/scipy/__init__.py:146: UserWarning: A NumPy version >=1.16.5 and <1.23.0 is required for this version of SciPy (detected version 1.23.5\n",
      "  warnings.warn(f\"A NumPy version >={np_minversion} and <{np_maxversion}\"\n"
     ]
    }
   ],
   "source": [
    "# imports\n",
    "import pandas as pd\n",
    "import numpy as np\n",
    "from sklearn.model_selection import train_test_split\n",
    "from sklearn.svm import SVC\n",
    "from sklearn.compose import ColumnTransformer\n",
    "from sklearn.pipeline import Pipeline\n",
    "from sklearn.preprocessing import OrdinalEncoder\n",
    "from sklearn.metrics import precision_score, recall_score, accuracy_score, f1_score, ConfusionMatrixDisplay\n",
    "from sklearn.ensemble import RandomForestClassifier\n",
    "import matplotlib.pyplot as plt\n",
    "import shap"
   ]
  },
  {
   "cell_type": "code",
   "execution_count": 2,
   "id": "6344ca10",
   "metadata": {},
   "outputs": [],
   "source": [
    "# creat a DataFrame for the data\n",
    "df = pd.read_csv('weatherAUS.csv')"
   ]
  },
  {
   "cell_type": "code",
   "execution_count": 3,
   "id": "7274166b",
   "metadata": {},
   "outputs": [
    {
     "data": {
      "text/plain": [
       "Date                 0\n",
       "Location             0\n",
       "MinTemp           1485\n",
       "MaxTemp           1261\n",
       "Rainfall          3261\n",
       "Evaporation      62790\n",
       "Sunshine         69835\n",
       "WindGustDir      10326\n",
       "WindGustSpeed    10263\n",
       "WindDir9am       10566\n",
       "WindDir3pm        4228\n",
       "WindSpeed9am      1767\n",
       "WindSpeed3pm      3062\n",
       "Humidity9am       2654\n",
       "Humidity3pm       4507\n",
       "Pressure9am      15065\n",
       "Pressure3pm      15028\n",
       "Cloud9am         55888\n",
       "Cloud3pm         59358\n",
       "Temp9am           1767\n",
       "Temp3pm           3609\n",
       "RainToday         3261\n",
       "RainTomorrow      3267\n",
       "dtype: int64"
      ]
     },
     "execution_count": 3,
     "metadata": {},
     "output_type": "execute_result"
    }
   ],
   "source": [
    "# check number of null values in each column\n",
    "df.isna().sum()"
   ]
  },
  {
   "cell_type": "code",
   "execution_count": 4,
   "id": "a8de0010",
   "metadata": {},
   "outputs": [],
   "source": [
    "# delete all rows (samples) with NaN values in the 'RainTomorrow' and 'RainToday' column\n",
    "df = df.dropna(subset=['RainTomorrow'])\n",
    "df = df.dropna(subset=['RainToday'])"
   ]
  },
  {
   "cell_type": "code",
   "execution_count": 5,
   "id": "06591a90",
   "metadata": {},
   "outputs": [
    {
     "name": "stdout",
     "output_type": "stream",
     "text": [
      "<class 'pandas.core.frame.DataFrame'>\n",
      "Int64Index: 140787 entries, 0 to 145458\n",
      "Data columns (total 23 columns):\n",
      " #   Column         Non-Null Count   Dtype  \n",
      "---  ------         --------------   -----  \n",
      " 0   Date           140787 non-null  object \n",
      " 1   Location       140787 non-null  object \n",
      " 2   MinTemp        140319 non-null  float64\n",
      " 3   MaxTemp        140480 non-null  float64\n",
      " 4   Rainfall       140787 non-null  float64\n",
      " 5   Evaporation    81093 non-null   float64\n",
      " 6   Sunshine       73982 non-null   float64\n",
      " 7   WindGustDir    131624 non-null  object \n",
      " 8   WindGustSpeed  131682 non-null  float64\n",
      " 9   WindDir9am     131127 non-null  object \n",
      " 10  WindDir3pm     137117 non-null  object \n",
      " 11  WindSpeed9am   139732 non-null  float64\n",
      " 12  WindSpeed3pm   138256 non-null  float64\n",
      " 13  Humidity9am    139270 non-null  float64\n",
      " 14  Humidity3pm    137286 non-null  float64\n",
      " 15  Pressure9am    127044 non-null  float64\n",
      " 16  Pressure3pm    127018 non-null  float64\n",
      " 17  Cloud9am       88162 non-null   float64\n",
      " 18  Cloud3pm       84693 non-null   float64\n",
      " 19  Temp9am        140131 non-null  float64\n",
      " 20  Temp3pm        138163 non-null  float64\n",
      " 21  RainToday      140787 non-null  object \n",
      " 22  RainTomorrow   140787 non-null  object \n",
      "dtypes: float64(16), object(7)\n",
      "memory usage: 25.8+ MB\n"
     ]
    }
   ],
   "source": [
    "# information about the dataset, checking features Dtype\n",
    "df.info()"
   ]
  },
  {
   "cell_type": "code",
   "execution_count": 6,
   "id": "8fb4a8a5",
   "metadata": {},
   "outputs": [
    {
     "name": "stdout",
     "output_type": "stream",
     "text": [
      "['MinTemp', 'MaxTemp', 'Rainfall', 'Evaporation', 'Sunshine', 'WindGustSpeed', 'WindSpeed9am', 'WindSpeed3pm', 'Humidity9am', 'Humidity3pm', 'Pressure9am', 'Pressure3pm', 'Cloud9am', 'Cloud3pm', 'Temp9am', 'Temp3pm']\n",
      "['Date', 'Location', 'WindGustDir', 'WindDir9am', 'WindDir3pm', 'RainToday']\n"
     ]
    }
   ],
   "source": [
    "# sort the categorical and numerical feature headers into two lists\n",
    "numerical_features = df.select_dtypes(include=['float64']).columns.tolist()\n",
    "categorical_features = df.select_dtypes(include=['object']).columns.tolist()\n",
    "categorical_features.remove('RainTomorrow') #remove output feature\n",
    "print(numerical_features)\n",
    "print(categorical_features)"
   ]
  },
  {
   "cell_type": "code",
   "execution_count": 7,
   "id": "52a852ca",
   "metadata": {},
   "outputs": [],
   "source": [
    "# handle NaN/Null values for numerical features by replacing NaN/Null by the mean of all values for that feature\n",
    "for feature in numerical_features:\n",
    "    df[feature] = df[feature].fillna(df[feature].mean())"
   ]
  },
  {
   "cell_type": "code",
   "execution_count": 8,
   "id": "43cc3859",
   "metadata": {},
   "outputs": [],
   "source": [
    "# handle NaN/Null values for categorical features by replacing NaN/Null by the most common lable for that feature\n",
    "for feature in categorical_features:\n",
    "    df[feature] = df[feature].fillna(df[feature].mode()[0])"
   ]
  },
  {
   "cell_type": "code",
   "execution_count": 9,
   "id": "7bc26dc7",
   "metadata": {},
   "outputs": [],
   "source": [
    "# creat input(X) and output(y) dataframe\n",
    "X = df.drop(columns='RainTomorrow')\n",
    "y = df['RainTomorrow']\n",
    "y = y == 'Yes'\n",
    "y.loc[y == True] = 1 \n",
    "y.loc[y == False] = 0\n",
    "y = y.astype('int')"
   ]
  },
  {
   "cell_type": "code",
   "execution_count": 10,
   "id": "63e37ffb",
   "metadata": {},
   "outputs": [
    {
     "name": "stdout",
     "output_type": "stream",
     "text": [
      "(112629, 22)\n",
      "(7040, 22)\n",
      "(21118, 22)\n"
     ]
    }
   ],
   "source": [
    "# split dataset into train-, validation- and test-set\n",
    "X_train, X_testval, y_train, y_testval = train_test_split(X, y, train_size=0.80)\n",
    "X_test, X_val, y_test, y_val = train_test_split(X_testval, y_testval, train_size=0.75, test_size=0.25)\n",
    "print(X_train.shape)\n",
    "print(X_val.shape)\n",
    "print(X_test.shape)"
   ]
  },
  {
   "cell_type": "code",
   "execution_count": 11,
   "id": "92ab730f",
   "metadata": {},
   "outputs": [],
   "source": [
    "# start setup for pre-processing the data\n",
    "numeric_transformer = 'passthrough'             # leave untransformed\n",
    "categorical_transformer = Pipeline(steps=[      # setup pipeline for transforming categorical features\n",
    "    ('categorical_transformer', OrdinalEncoder(handle_unknown='use_encoded_value', unknown_value=-1))\n",
    "])\n",
    "# set up column transformer\n",
    "preprocessor = ColumnTransformer(\n",
    "    transformers=[\n",
    "        ('numerical', numeric_transformer, numerical_features),\n",
    "        ('categorical', categorical_transformer, categorical_features)\n",
    "    ])"
   ]
  },
  {
   "cell_type": "code",
   "execution_count": 14,
   "id": "0f586487",
   "metadata": {},
   "outputs": [],
   "source": [
    "# Create a pipeline between preprocessor and ML models\n",
    "rf_model = Pipeline(steps=[('transformed_data', preprocessor),\n",
    "                      ('classifier', RandomForestClassifier())])\n",
    "svm_model = Pipeline(steps=[('transformed_data', preprocessor),\n",
    "                      ('classifier', SVC())])"
   ]
  },
  {
   "cell_type": "code",
   "execution_count": 15,
   "id": "8240499f",
   "metadata": {},
   "outputs": [
    {
     "data": {
      "text/plain": [
       "Pipeline(steps=[('transformed_data',\n",
       "                 ColumnTransformer(transformers=[('numerical', 'passthrough',\n",
       "                                                  ['MinTemp', 'MaxTemp',\n",
       "                                                   'Rainfall', 'Evaporation',\n",
       "                                                   'Sunshine', 'WindGustSpeed',\n",
       "                                                   'WindSpeed9am',\n",
       "                                                   'WindSpeed3pm',\n",
       "                                                   'Humidity9am', 'Humidity3pm',\n",
       "                                                   'Pressure9am', 'Pressure3pm',\n",
       "                                                   'Cloud9am', 'Cloud3pm',\n",
       "                                                   'Temp9am', 'Temp3pm']),\n",
       "                                                 ('categorical',\n",
       "                                                  Pipeline(steps=[('categorical_transformer',\n",
       "                                                                   OrdinalEncoder(handle_unknown='use_encoded_value',\n",
       "                                                                                  unknown_value=-1))]),\n",
       "                                                  ['Date', 'Location',\n",
       "                                                   'WindGustDir', 'WindDir9am',\n",
       "                                                   'WindDir3pm',\n",
       "                                                   'RainToday'])])),\n",
       "                ('classifier', SVC())])"
      ]
     },
     "execution_count": 15,
     "metadata": {},
     "output_type": "execute_result"
    }
   ],
   "source": [
    "# fit the models on the full-featured dataset\n",
    "rf_model.fit(X_train, y_train)\n",
    "svm_model.fit(X_train, y_train)"
   ]
  },
  {
   "cell_type": "code",
   "execution_count": 16,
   "id": "28a5098f",
   "metadata": {},
   "outputs": [
    {
     "name": "stdout",
     "output_type": "stream",
     "text": [
      "RF model\n",
      "accuracy: 0.8564731508665593\n",
      "recall: 0.49742046431642306\n",
      "precision: 0.7695377452610576\n",
      "f1_score: 0.6042564303433869\n"
     ]
    }
   ],
   "source": [
    "# Model evaluation for RF model\n",
    "y_pred = rf_model.predict(X_test)\n",
    "rf_accuracy = accuracy_score(y_test, y_pred)\n",
    "rf_recall = recall_score(y_test, y_pred)\n",
    "rf_precision = precision_score(y_test, y_pred)\n",
    "rf_f1score = f1_score(y_test, y_pred)\n",
    "print(f'RF model')\n",
    "print(f'accuracy: {rf_accuracy}\\nrecall: {rf_recall}\\nprecision: {rf_precision}\\nf1_score: {rf_f1score}')"
   ]
  },
  {
   "cell_type": "code",
   "execution_count": 17,
   "id": "75aef5af",
   "metadata": {},
   "outputs": [
    {
     "data": {
      "image/png": "[encoded data removed]",
      "text/plain": [
       "<Figure size 432x288 with 2 Axes>"
      ]
     },
     "metadata": {
      "needs_background": "light"
     },
     "output_type": "display_data"
    }
   ],
   "source": [
    "# confusion matrix for RF model\n",
    "ConfusionMatrixDisplay.from_predictions(y_test, y_pred)\n",
    "plt.show()"
   ]
  },
  {
   "cell_type": "code",
   "execution_count": 18,
   "id": "242540f9",
   "metadata": {},
   "outputs": [
    {
     "name": "stdout",
     "output_type": "stream",
     "text": [
      "SVM model\n",
      "accuracy: 0.812955772326925\n",
      "recall: 0.18873602751504728\n",
      "precision: 0.8330170777988615\n",
      "f1_score: 0.30774623203645285\n"
     ]
    }
   ],
   "source": [
    "# Model evaluation for SVM model\n",
    "y_pred = svm_model.predict(X_test)\n",
    "svm_accuracy = accuracy_score(y_test, y_pred)\n",
    "svm_recall = recall_score(y_test, y_pred)\n",
    "svm_precision = precision_score(y_test, y_pred)\n",
    "svm_f1score = f1_score(y_test, y_pred)\n",
    "print(f'SVM model')\n",
    "print(f'accuracy: {svm_accuracy}\\nrecall: {svm_recall}\\nprecision: {svm_precision}\\nf1_score: {svm_f1score}')"
   ]
  },
  {
   "cell_type": "code",
   "execution_count": 19,
   "id": "cfa0ad1d",
   "metadata": {},
   "outputs": [
    {
     "data": {
      "image/png": "[encoded data removed]",
      "text/plain": [
       "<Figure size 432x288 with 2 Axes>"
      ]
     },
     "metadata": {
      "needs_background": "light"
     },
     "output_type": "display_data"
    }
   ],
   "source": [
    "# confusion matrix for SVM model\n",
    "ConfusionMatrixDisplay.from_predictions(y_test, y_pred)\n",
    "plt.show()"
   ]
  },
  {
   "cell_type": "code",
   "execution_count": 20,
   "id": "ac08cd35",
   "metadata": {},
   "outputs": [
    {
     "data": {
      "image/png": "[encoded data removed]",
      "text/plain": [
       "<Figure size 432x288 with 1 Axes>"
      ]
     },
     "metadata": {
      "needs_background": "light"
     },
     "output_type": "display_data"
    }
   ],
   "source": [
    "# RF feature importance\n",
    "rf_feature_importance = rf_model.named_steps['classifier'].feature_importances_\n",
    "\n",
    "features = numerical_features + categorical_features\n",
    "\n",
    "forest_importances = pd.Series(rf_feature_importance, index=features)\n",
    "\n",
    "std = np.std([tree.feature_importances_ for tree in rf_model.named_steps['classifier'].estimators_], axis=0)\n",
    "\n",
    "fig, ax = plt.subplots()\n",
    "forest_importances.plot.bar(yerr=std, ax=ax)\n",
    "ax.set_title(\"Feature importances for RandomForest model\")\n",
    "ax.set_ylabel(\"Importance\")\n",
    "ax.set_xlabel(\"Features\")\n",
    "fig.tight_layout()"
   ]
  },
  {
   "cell_type": "code",
   "execution_count": 21,
   "id": "306cb523",
   "metadata": {},
   "outputs": [
    {
     "name": "stdout",
     "output_type": "stream",
     "text": [
      "MinTemp: 4.408%\n",
      "MaxTemp: 4.28%\n",
      "Rainfall: 5.848%\n",
      "Evaporation: 2.495%\n",
      "Sunshine: 5.361%\n",
      "WindGustSpeed: 5.453%\n",
      "WindSpeed9am: 2.967%\n",
      "WindSpeed3pm: 3.224%\n",
      "Humidity9am: 5.183%\n",
      "Humidity3pm: 17.02%\n",
      "Pressure9am: 5.219%\n",
      "Pressure3pm: 5.868%\n",
      "Cloud9am: 2.321%\n",
      "Cloud3pm: 3.614%\n",
      "Temp9am: 4.191%\n",
      "Temp3pm: 4.398%\n",
      "Date: 4.488%\n",
      "Location: 3.164%\n",
      "WindGustDir: 2.636%\n",
      "WindDir9am: 2.719%\n",
      "WindDir3pm: 2.785%\n",
      "RainToday: 2.359%\n"
     ]
    }
   ],
   "source": [
    "# print feature importance for each feature in precentage for RF model\n",
    "for feature, importance in zip(features, rf_feature_importance):\n",
    "    print(f\"{feature}: {round(100*importance,3)}%\")"
   ]
  },
  {
   "cell_type": "code",
   "execution_count": 22,
   "id": "7a35d909",
   "metadata": {},
   "outputs": [
    {
     "data": {
      "text/plain": [
       "(1126, 22)"
      ]
     },
     "execution_count": 22,
     "metadata": {},
     "output_type": "execute_result"
    }
   ],
   "source": [
    "# SVM feature importance train set for SHAP\n",
    "X_train_shap, unused_test, y_train_shap, unused_test_y = train_test_split(X_train, y_train, train_size=0.01, test_size=0.001)\n",
    "X_train_shap.shape"
   ]
  },
  {
   "cell_type": "code",
   "execution_count": 23,
   "id": "366844e3",
   "metadata": {},
   "outputs": [
    {
     "data": {
      "text/plain": [
       "(85, 22)"
      ]
     },
     "execution_count": 23,
     "metadata": {},
     "output_type": "execute_result"
    }
   ],
   "source": [
    "unused_X, X_test_shap, unused_y, y_test_shap = train_test_split(X_test, y_test, test_size=0.004)\n",
    "X_test_shap.shape"
   ]
  },
  {
   "cell_type": "code",
   "execution_count": 24,
   "id": "8d5dbc28",
   "metadata": {},
   "outputs": [
    {
     "data": {
      "text/plain": [
       "SVC(probability=True)"
      ]
     },
     "execution_count": 24,
     "metadata": {},
     "output_type": "execute_result"
    }
   ],
   "source": [
    "# setup model for SHAP\n",
    "# without pipeline to be able to use SHAP\n",
    "# transform dataset before to be able to use SHAP\n",
    "X_transformed_train_shap = pd.DataFrame(preprocessor.fit_transform(X_train_shap), columns=features)\n",
    "X_transformed_test_shap = pd.DataFrame(preprocessor.fit_transform(X_test_shap), columns=features)\n",
    "svm_model = SVC(probability=True)\n",
    "svm_model.fit(X_transformed_train_shap, y_train_shap)"
   ]
  },
  {
   "cell_type": "code",
   "execution_count": 25,
   "id": "19deb55c",
   "metadata": {},
   "outputs": [
    {
     "name": "stderr",
     "output_type": "stream",
     "text": [
      "Permutation explainer: 86it [04:23,  3.14s/it]                                  \n"
     ]
    }
   ],
   "source": [
    "# use SHAP to calculate feature importances\n",
    "# transform dataset before input to \n",
    "explainer = shap.Explainer(svm_model.predict_proba, X_transformed_train_shap)\n",
    "shap_values = explainer(X_transformed_test_shap)"
   ]
  },
  {
   "cell_type": "code",
   "execution_count": 41,
   "id": "dc12f5ab",
   "metadata": {},
   "outputs": [
    {
     "data": {
      "image/png": "[encoded data removed]",
      "text/plain": [
       "<Figure size 576x684 with 1 Axes>"
      ]
     },
     "metadata": {
      "needs_background": "light"
     },
     "output_type": "display_data"
    }
   ],
   "source": [
    "# Visualize the feature importance for both classes\n",
    "shap.summary_plot(shap_values[:, :, 1], X_transformed_test_shap, plot_type=\"bar\", title=\"Feature Importance - Rain in Austrailia\", max_display=None)"
   ]
  },
  {
   "cell_type": "code",
   "execution_count": 38,
   "id": "da4fb163",
   "metadata": {},
   "outputs": [],
   "source": [
    "# now drop Humidity3pm as it was the most important feature for both models\n",
    "X_train_best_removed = X_train.drop(columns=['Humidity3pm'])\n",
    "X_test_best_removed = X_test.drop(columns=['Humidity3pm'])\n",
    "X_val_best_removed = X_val.drop(columns=['Humidity3pm'])\n",
    "features_best_removed = features\n",
    "features_best_removed.remove('Humidity3pm')"
   ]
  },
  {
   "cell_type": "code",
   "execution_count": 39,
   "id": "62dfaf4b",
   "metadata": {},
   "outputs": [],
   "source": [
    "# set up column transformer\n",
    "numerical_features_best_removed = numerical_features\n",
    "numerical_features_best_removed.remove('Humidity3pm')\n",
    "preprocessor = ColumnTransformer(\n",
    "    transformers=[\n",
    "        ('numerical', numeric_transformer, numerical_features_best_removed),\n",
    "        ('categorical', categorical_transformer, categorical_features)\n",
    "    ])\n"
   ]
  },
  {
   "cell_type": "code",
   "execution_count": 41,
   "id": "4a6ba61e",
   "metadata": {},
   "outputs": [],
   "source": [
    "# create a pipeline between preprocessor and ML models\n",
    "rf_model = Pipeline(steps=[('transformed_data', preprocessor),\n",
    "                      ('classifier', RandomForestClassifier())])\n",
    "svm_model = Pipeline(steps=[('transformed_data', preprocessor),\n",
    "                      ('classifier', SVC())])"
   ]
  },
  {
   "cell_type": "code",
   "execution_count": 42,
   "id": "1e57dd55",
   "metadata": {},
   "outputs": [
    {
     "data": {
      "text/plain": [
       "Pipeline(steps=[('transformed_data',\n",
       "                 ColumnTransformer(transformers=[('numerical', 'passthrough',\n",
       "                                                  ['MinTemp', 'MaxTemp',\n",
       "                                                   'Rainfall', 'Evaporation',\n",
       "                                                   'Sunshine', 'WindGustSpeed',\n",
       "                                                   'WindSpeed9am',\n",
       "                                                   'WindSpeed3pm',\n",
       "                                                   'Humidity9am', 'Pressure9am',\n",
       "                                                   'Pressure3pm', 'Cloud9am',\n",
       "                                                   'Cloud3pm', 'Temp9am',\n",
       "                                                   'Temp3pm']),\n",
       "                                                 ('categorical',\n",
       "                                                  Pipeline(steps=[('categorical_transformer',\n",
       "                                                                   OrdinalEncoder(handle_unknown='use_encoded_value',\n",
       "                                                                                  unknown_value=-1))]),\n",
       "                                                  ['Date', 'Location',\n",
       "                                                   'WindGustDir', 'WindDir9am',\n",
       "                                                   'WindDir3pm',\n",
       "                                                   'RainToday'])])),\n",
       "                ('classifier', SVC())])"
      ]
     },
     "execution_count": 42,
     "metadata": {},
     "output_type": "execute_result"
    }
   ],
   "source": [
    "# fit the models on the best feature removed dataset\n",
    "rf_model.fit(X_train_best_removed, y_train)\n",
    "svm_model.fit(X_train_best_removed, y_train)"
   ]
  },
  {
   "cell_type": "code",
   "execution_count": 43,
   "id": "69a27b53",
   "metadata": {},
   "outputs": [
    {
     "name": "stdout",
     "output_type": "stream",
     "text": [
      "RF model\n",
      "accuracy: 0.8514063831802254\n",
      "recall: 0.4808638015822108\n",
      "precision: 0.7600540723217303\n",
      "f1_score: 0.5890518596123625\n"
     ]
    }
   ],
   "source": [
    "# Model evaluation for RF model\n",
    "y_pred = rf_model.predict(X_test_best_removed)\n",
    "rf_accuracy = accuracy_score(y_test, y_pred)\n",
    "rf_recall = recall_score(y_test, y_pred)\n",
    "rf_precision = precision_score(y_test, y_pred)\n",
    "rf_f1score = f1_score(y_test, y_pred)\n",
    "print(f'RF model')\n",
    "print(f'accuracy: {rf_accuracy}\\nrecall: {rf_recall}\\nprecision: {rf_precision}\\nf1_score: {rf_f1score}')"
   ]
  },
  {
   "cell_type": "code",
   "execution_count": 44,
   "id": "1f46b22d",
   "metadata": {},
   "outputs": [
    {
     "data": {
      "image/png": "[encoded data removed]",
      "text/plain": [
       "<Figure size 432x288 with 2 Axes>"
      ]
     },
     "metadata": {
      "needs_background": "light"
     },
     "output_type": "display_data"
    }
   ],
   "source": [
    "# confusion matrix for RF model\n",
    "ConfusionMatrixDisplay.from_predictions(y_test, y_pred)\n",
    "plt.show()"
   ]
  },
  {
   "cell_type": "code",
   "execution_count": 45,
   "id": "b2a06510",
   "metadata": {},
   "outputs": [
    {
     "name": "stdout",
     "output_type": "stream",
     "text": [
      "SVM model\n",
      "accuracy: 0.7807084004167061\n",
      "recall: 0.013256360915116528\n",
      "precision: 0.7948717948717948\n",
      "f1_score: 0.02607781282860147\n"
     ]
    }
   ],
   "source": [
    "# Model evaluation for SVM model\n",
    "y_pred = svm_model.predict(X_test_best_removed)\n",
    "svm_accuracy = accuracy_score(y_test, y_pred)\n",
    "svm_recall = recall_score(y_test, y_pred)\n",
    "svm_precision = precision_score(y_test, y_pred)\n",
    "svm_f1score = f1_score(y_test, y_pred)\n",
    "print(f'SVM model')\n",
    "print(f'accuracy: {svm_accuracy}\\nrecall: {svm_recall}\\nprecision: {svm_precision}\\nf1_score: {svm_f1score}')"
   ]
  },
  {
   "cell_type": "code",
   "execution_count": 46,
   "id": "c03508b6",
   "metadata": {},
   "outputs": [
    {
     "data": {
      "image/png": "[encoded data removed]",
      "text/plain": [
       "<Figure size 432x288 with 2 Axes>"
      ]
     },
     "metadata": {
      "needs_background": "light"
     },
     "output_type": "display_data"
    }
   ],
   "source": [
    "# confusion matrix for SVM model\n",
    "ConfusionMatrixDisplay.from_predictions(y_test, y_pred)\n",
    "plt.show()"
   ]
  },
  {
   "cell_type": "code",
   "execution_count": 47,
   "id": "a93f8672",
   "metadata": {},
   "outputs": [
    {
     "data": {
      "image/png": "[encoded data removed]",
      "text/plain": [
       "<Figure size 432x288 with 1 Axes>"
      ]
     },
     "metadata": {
      "needs_background": "light"
     },
     "output_type": "display_data"
    }
   ],
   "source": [
    "# RF feature importance best feature removed\n",
    "rf_feature_importance = rf_model.named_steps['classifier'].feature_importances_\n",
    "\n",
    "features = numerical_features + categorical_features\n",
    "\n",
    "forest_importances = pd.Series(rf_feature_importance, index=features_best_removed)\n",
    "\n",
    "std = np.std([tree.feature_importances_ for tree in rf_model.named_steps['classifier'].estimators_], axis=0)\n",
    "\n",
    "fig, ax = plt.subplots()\n",
    "forest_importances.plot.bar(yerr=std, ax=ax)\n",
    "ax.set_title(\"Feature importances for RandomForest model\")\n",
    "ax.set_ylabel(\"Importance\")\n",
    "ax.set_xlabel(\"Features\")\n",
    "fig.tight_layout()"
   ]
  },
  {
   "cell_type": "code",
   "execution_count": 48,
   "id": "c6c0ba4b",
   "metadata": {},
   "outputs": [
    {
     "name": "stdout",
     "output_type": "stream",
     "text": [
      "MinTemp: 5.513%\n",
      "MaxTemp: 5.291%\n",
      "Rainfall: 7.083%\n",
      "Evaporation: 2.83%\n",
      "Sunshine: 6.659%\n",
      "WindGustSpeed: 5.787%\n",
      "WindSpeed9am: 3.377%\n",
      "WindSpeed3pm: 3.643%\n",
      "Humidity9am: 7.121%\n",
      "Pressure9am: 5.899%\n",
      "Pressure3pm: 6.968%\n",
      "Cloud9am: 2.646%\n",
      "Cloud3pm: 4.842%\n",
      "Temp9am: 5.191%\n",
      "Temp3pm: 6.28%\n",
      "Date: 5.1%\n",
      "Location: 3.574%\n",
      "WindGustDir: 3.013%\n",
      "WindDir9am: 3.159%\n",
      "WindDir3pm: 3.161%\n",
      "RainToday: 2.862%\n"
     ]
    }
   ],
   "source": [
    "# print feature importance for each feature in precentage for RF model\n",
    "for feature, importance in zip(features_best_removed, rf_feature_importance):\n",
    "    print(f\"{feature}: {round(100*importance,3)}%\")"
   ]
  },
  {
   "cell_type": "code",
   "execution_count": 49,
   "id": "5b011f84",
   "metadata": {},
   "outputs": [
    {
     "data": {
      "text/plain": [
       "SVC(probability=True)"
      ]
     },
     "execution_count": 49,
     "metadata": {},
     "output_type": "execute_result"
    }
   ],
   "source": [
    "# dataset for shap\n",
    "X_transformed_train_shap_best_removed = X_transformed_train_shap.drop(columns=['Humidity3pm'])\n",
    "X_transformed_test_shap_best_removed = X_transformed_test_shap.drop(columns=['Humidity3pm'])\n",
    "svm_model = SVC(probability=True)\n",
    "svm_model.fit(X_transformed_train_shap_best_removed, y_train_shap)"
   ]
  },
  {
   "cell_type": "code",
   "execution_count": 50,
   "id": "bb6a365c",
   "metadata": {},
   "outputs": [
    {
     "name": "stderr",
     "output_type": "stream",
     "text": [
      "Permutation explainer: 86it [04:09,  3.04s/it]                                  \n"
     ]
    }
   ],
   "source": [
    "# use SHAP to calculate feature importances\n",
    "# transform dataset before input to \n",
    "explainer_best_removed = shap.Explainer(svm_model.predict_proba, X_transformed_train_shap_best_removed)\n",
    "shap_values_best_removed = explainer_best_removed(X_transformed_test_shap_best_removed)"
   ]
  },
  {
   "cell_type": "code",
   "execution_count": 51,
   "id": "5c72ad95",
   "metadata": {},
   "outputs": [
    {
     "data": {
      "image/png": "[encoded data removed]",
      "text/plain": [
       "<Figure size 576x684 with 1 Axes>"
      ]
     },
     "metadata": {
      "needs_background": "light"
     },
     "output_type": "display_data"
    }
   ],
   "source": [
    "# Visualize the feature importance for both classes\n",
    "shap.summary_plot(shap_values_best_removed[:, :, 1], X_transformed_test_shap_best_removed, plot_type=\"bar\", title=\"Feature Importance - rain\", max_display=None)"
   ]
  }
 ],
 "metadata": {
  "kernelspec": {
   "display_name": "Python 3 (ipykernel)",
   "language": "python",
   "name": "python3"
  },
  "language_info": {
   "codemirror_mode": {
    "name": "ipython",
    "version": 3
   },
   "file_extension": ".py",
   "mimetype": "text/x-python",
   "name": "python",
   "nbconvert_exporter": "python",
   "pygments_lexer": "ipython3",
   "version": "3.8.10"
  }
 },
 "nbformat": 4,
 "nbformat_minor": 5
}
