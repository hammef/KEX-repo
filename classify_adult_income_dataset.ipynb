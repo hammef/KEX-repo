{
 "cells": [
  {
   "cell_type": "code",
   "execution_count": 1,
   "id": "8e2b6e5d",
   "metadata": {},
   "outputs": [
    {
     "name": "stderr",
     "output_type": "stream",
     "text": [
      "/home/hfridl/.local/lib/python3.8/site-packages/scipy/__init__.py:146: UserWarning: A NumPy version >=1.16.5 and <1.23.0 is required for this version of SciPy (detected version 1.23.5\n",
      "  warnings.warn(f\"A NumPy version >={np_minversion} and <{np_maxversion}\"\n"
     ]
    }
   ],
   "source": [
    "# imports\n",
    "import pandas as pd\n",
    "import numpy as np\n",
    "from sklearn.model_selection import train_test_split\n",
    "from sklearn.svm import SVC\n",
    "from sklearn.compose import ColumnTransformer\n",
    "from sklearn.pipeline import Pipeline\n",
    "from sklearn.preprocessing import OrdinalEncoder\n",
    "from sklearn.metrics import precision_score, recall_score, accuracy_score, f1_score, ConfusionMatrixDisplay\n",
    "from sklearn.ensemble import RandomForestClassifier\n",
    "import matplotlib.pyplot as plt\n",
    "import shap"
   ]
  },
  {
   "cell_type": "code",
   "execution_count": 2,
   "id": "6344ca10",
   "metadata": {},
   "outputs": [],
   "source": [
    "# creat a DataFrame for the data\n",
    "df = pd.read_csv('adult.csv')"
   ]
  },
  {
   "cell_type": "code",
   "execution_count": 3,
   "id": "7274166b",
   "metadata": {},
   "outputs": [
    {
     "data": {
      "text/plain": [
       "age                0\n",
       "workclass          0\n",
       "fnlwgt             0\n",
       "education          0\n",
       "educational-num    0\n",
       "marital-status     0\n",
       "occupation         0\n",
       "relationship       0\n",
       "race               0\n",
       "gender             0\n",
       "capital-gain       0\n",
       "capital-loss       0\n",
       "hours-per-week     0\n",
       "native-country     0\n",
       "income             0\n",
       "dtype: int64"
      ]
     },
     "execution_count": 3,
     "metadata": {},
     "output_type": "execute_result"
    }
   ],
   "source": [
    "# check number of null values in each column\n",
    "df.isna().sum()"
   ]
  },
  {
   "cell_type": "code",
   "execution_count": 4,
   "id": "06591a90",
   "metadata": {},
   "outputs": [
    {
     "name": "stdout",
     "output_type": "stream",
     "text": [
      "<class 'pandas.core.frame.DataFrame'>\n",
      "RangeIndex: 48842 entries, 0 to 48841\n",
      "Data columns (total 15 columns):\n",
      " #   Column           Non-Null Count  Dtype \n",
      "---  ------           --------------  ----- \n",
      " 0   age              48842 non-null  int64 \n",
      " 1   workclass        48842 non-null  object\n",
      " 2   fnlwgt           48842 non-null  int64 \n",
      " 3   education        48842 non-null  object\n",
      " 4   educational-num  48842 non-null  int64 \n",
      " 5   marital-status   48842 non-null  object\n",
      " 6   occupation       48842 non-null  object\n",
      " 7   relationship     48842 non-null  object\n",
      " 8   race             48842 non-null  object\n",
      " 9   gender           48842 non-null  object\n",
      " 10  capital-gain     48842 non-null  int64 \n",
      " 11  capital-loss     48842 non-null  int64 \n",
      " 12  hours-per-week   48842 non-null  int64 \n",
      " 13  native-country   48842 non-null  object\n",
      " 14  income           48842 non-null  object\n",
      "dtypes: int64(6), object(9)\n",
      "memory usage: 5.6+ MB\n"
     ]
    }
   ],
   "source": [
    "# information about the dataset, checking features Dtype\n",
    "df.info()"
   ]
  },
  {
   "cell_type": "code",
   "execution_count": 5,
   "id": "8fb4a8a5",
   "metadata": {},
   "outputs": [
    {
     "name": "stdout",
     "output_type": "stream",
     "text": [
      "['age', 'fnlwgt', 'educational-num', 'capital-gain', 'capital-loss', 'hours-per-week']\n",
      "['workclass', 'education', 'marital-status', 'occupation', 'relationship', 'race', 'gender', 'native-country']\n"
     ]
    }
   ],
   "source": [
    "# sort the categorical and numerical feature headers into two lists\n",
    "numerical_features = df.select_dtypes(include=['int64']).columns.tolist()\n",
    "categorical_features = df.select_dtypes(include=['object']).columns.tolist()\n",
    "categorical_features.remove('income') #remove output feature\n",
    "print(numerical_features)\n",
    "print(categorical_features)"
   ]
  },
  {
   "cell_type": "code",
   "execution_count": 6,
   "id": "7bc26dc7",
   "metadata": {},
   "outputs": [],
   "source": [
    "# creat input(X) and output(y) dataframe\n",
    "X = df.drop(columns='income')\n",
    "y = df['income']\n",
    "y = y == '>50K'\n",
    "y.loc[y == True] = 1 \n",
    "y.loc[y == False] = 0\n",
    "y = y.astype('int')"
   ]
  },
  {
   "cell_type": "code",
   "execution_count": 7,
   "id": "63e37ffb",
   "metadata": {},
   "outputs": [
    {
     "name": "stdout",
     "output_type": "stream",
     "text": [
      "(39073, 14)\n",
      "(9769, 14)\n"
     ]
    }
   ],
   "source": [
    "# split dataset into train-, validation- and test-set\n",
    "X_train, X_test, y_train, y_test = train_test_split(X, y, train_size=0.8)\n",
    "print(X_train.shape)\n",
    "print(X_test.shape)"
   ]
  },
  {
   "cell_type": "code",
   "execution_count": 8,
   "id": "92ab730f",
   "metadata": {},
   "outputs": [],
   "source": [
    "# start setup for pre-processing the data\n",
    "numeric_transformer = 'passthrough'             # leave untransformed\n",
    "categorical_transformer = Pipeline(steps=[      # setup pipeline for transforming categorical features\n",
    "    ('categorical_transformer', OrdinalEncoder(handle_unknown='use_encoded_value', unknown_value=-1))\n",
    "])\n",
    "# set up column transformer\n",
    "preprocessor = ColumnTransformer(\n",
    "    transformers=[\n",
    "        ('numerical', numeric_transformer, numerical_features),\n",
    "        ('categorical', categorical_transformer, categorical_features)\n",
    "    ])"
   ]
  },
  {
   "cell_type": "code",
   "execution_count": 10,
   "id": "73b03e53",
   "metadata": {},
   "outputs": [],
   "source": [
    "# best_c, best_gamma = 4.6, 'scale'"
   ]
  },
  {
   "cell_type": "code",
   "execution_count": 11,
   "id": "0f586487",
   "metadata": {},
   "outputs": [],
   "source": [
    "# Create a pipeline between preprocessor and ML models\n",
    "rf_model = Pipeline(steps=[('transformed_data', preprocessor),\n",
    "                      ('classifier', RandomForestClassifier())])\n",
    "svm_model = Pipeline(steps=[('transformed_data', preprocessor),\n",
    "                      ('classifier', SVC())])"
   ]
  },
  {
   "cell_type": "code",
   "execution_count": 12,
   "id": "8240499f",
   "metadata": {},
   "outputs": [
    {
     "data": {
      "text/plain": [
       "Pipeline(steps=[('transformed_data',\n",
       "                 ColumnTransformer(transformers=[('numerical', 'passthrough',\n",
       "                                                  ['age', 'fnlwgt',\n",
       "                                                   'educational-num',\n",
       "                                                   'capital-gain',\n",
       "                                                   'capital-loss',\n",
       "                                                   'hours-per-week']),\n",
       "                                                 ('categorical',\n",
       "                                                  Pipeline(steps=[('categorical_transformer',\n",
       "                                                                   OrdinalEncoder(handle_unknown='use_encoded_value',\n",
       "                                                                                  unknown_value=-1))]),\n",
       "                                                  ['workclass', 'education',\n",
       "                                                   'marital-status',\n",
       "                                                   'occupation', 'relationship',\n",
       "                                                   'race', 'gender',\n",
       "                                                   'native-country'])])),\n",
       "                ('classifier', SVC())])"
      ]
     },
     "execution_count": 12,
     "metadata": {},
     "output_type": "execute_result"
    }
   ],
   "source": [
    "# fit the models on the full-featured dataset\n",
    "rf_model.fit(X_train, y_train)\n",
    "svm_model.fit(X_train, y_train)"
   ]
  },
  {
   "cell_type": "code",
   "execution_count": 13,
   "id": "28a5098f",
   "metadata": {},
   "outputs": [
    {
     "name": "stdout",
     "output_type": "stream",
     "text": [
      "RF model\n",
      "accuracy: 0.8605793837649708\n",
      "recall: 0.6271986271986272\n",
      "precision: 0.7478260869565218\n",
      "f1_score: 0.6822211852543163\n"
     ]
    }
   ],
   "source": [
    "# Model evaluation for RF model\n",
    "y_pred = rf_model.predict(X_test)\n",
    "rf_accuracy = accuracy_score(y_test, y_pred)\n",
    "rf_recall = recall_score(y_test, y_pred)\n",
    "rf_precision = precision_score(y_test, y_pred)\n",
    "rf_f1score = f1_score(y_test, y_pred)\n",
    "print(f'RF model')\n",
    "print(f'accuracy: {rf_accuracy}\\nrecall: {rf_recall}\\nprecision: {rf_precision}\\nf1_score: {rf_f1score}')"
   ]
  },
  {
   "cell_type": "code",
   "execution_count": 14,
   "id": "75aef5af",
   "metadata": {},
   "outputs": [
    {
     "data": {
      "image/png": "[encoded data removed]",
      "text/plain": [
       "<Figure size 432x288 with 2 Axes>"
      ]
     },
     "metadata": {
      "needs_background": "light"
     },
     "output_type": "display_data"
    }
   ],
   "source": [
    "# confusion matrix for RF model\n",
    "ConfusionMatrixDisplay.from_predictions(y_test, y_pred)\n",
    "plt.show()"
   ]
  },
  {
   "cell_type": "code",
   "execution_count": 15,
   "id": "242540f9",
   "metadata": {},
   "outputs": [
    {
     "name": "stdout",
     "output_type": "stream",
     "text": [
      "SVM model\n",
      "accuracy: 0.7976251407513564\n",
      "recall: 0.15873015873015872\n",
      "precision: 0.9585492227979274\n",
      "f1_score: 0.27235921972764077\n"
     ]
    }
   ],
   "source": [
    "# Model evaluation for SVM model\n",
    "y_pred = svm_model.predict(X_test)\n",
    "svm_accuracy = accuracy_score(y_test, y_pred)\n",
    "svm_recall = recall_score(y_test, y_pred)\n",
    "svm_precision = precision_score(y_test, y_pred)\n",
    "svm_f1score = f1_score(y_test, y_pred)\n",
    "print(f'SVM model')\n",
    "print(f'accuracy: {svm_accuracy}\\nrecall: {svm_recall}\\nprecision: {svm_precision}\\nf1_score: {svm_f1score}')"
   ]
  },
  {
   "cell_type": "code",
   "execution_count": 16,
   "id": "cfa0ad1d",
   "metadata": {},
   "outputs": [
    {
     "data": {
      "image/png": "[encoded data removed]",
      "text/plain": [
       "<Figure size 432x288 with 2 Axes>"
      ]
     },
     "metadata": {
      "needs_background": "light"
     },
     "output_type": "display_data"
    }
   ],
   "source": [
    "# confusion matrix for SVM model\n",
    "ConfusionMatrixDisplay.from_predictions(y_test, y_pred)\n",
    "plt.show()"
   ]
  },
  {
   "cell_type": "code",
   "execution_count": 17,
   "id": "ac08cd35",
   "metadata": {},
   "outputs": [
    {
     "data": {
      "image/png": "[encoded data removed]",
      "text/plain": [
       "<Figure size 432x288 with 1 Axes>"
      ]
     },
     "metadata": {
      "needs_background": "light"
     },
     "output_type": "display_data"
    }
   ],
   "source": [
    "# RF feature importance\n",
    "rf_feature_importance = rf_model.named_steps['classifier'].feature_importances_\n",
    "\n",
    "features = numerical_features + categorical_features\n",
    "\n",
    "forest_importances = pd.Series(rf_feature_importance, index=features)\n",
    "\n",
    "std = np.std([tree.feature_importances_ for tree in rf_model.named_steps['classifier'].estimators_], axis=0)\n",
    "\n",
    "fig, ax = plt.subplots()\n",
    "forest_importances.plot.bar(yerr=std, ax=ax)\n",
    "ax.set_title(\"Feature importances for RandomForest model\")\n",
    "ax.set_ylabel(\"Importance\")\n",
    "ax.set_xlabel(\"Features\")\n",
    "fig.tight_layout()"
   ]
  },
  {
   "cell_type": "code",
   "execution_count": 18,
   "id": "306cb523",
   "metadata": {},
   "outputs": [
    {
     "name": "stdout",
     "output_type": "stream",
     "text": [
      "age: 14.366%\n",
      "fnlwgt: 17.564%\n",
      "educational-num: 8.855%\n",
      "capital-gain: 11.515%\n",
      "capital-loss: 3.643%\n",
      "hours-per-week: 8.127%\n",
      "workclass: 3.897%\n",
      "education: 3.191%\n",
      "marital-status: 7.564%\n",
      "occupation: 6.567%\n",
      "relationship: 10.305%\n",
      "race: 1.382%\n",
      "gender: 1.36%\n",
      "native-country: 1.663%\n"
     ]
    }
   ],
   "source": [
    "# print feature importance for each feature in precentage for RF model\n",
    "for feature, importance in zip(features, rf_feature_importance):\n",
    "    print(f\"{feature}: {round(100*importance,3)}%\")"
   ]
  },
  {
   "cell_type": "code",
   "execution_count": 19,
   "id": "7a35d909",
   "metadata": {},
   "outputs": [
    {
     "data": {
      "text/plain": [
       "(1172, 14)"
      ]
     },
     "execution_count": 19,
     "metadata": {},
     "output_type": "execute_result"
    }
   ],
   "source": [
    "# SVM feature importance train set for SHAP\n",
    "X_train_shap, unused_test, y_train_shap, unused_test_y = train_test_split(X_train, y_train, train_size=0.03, test_size=0.001)\n",
    "X_train_shap.shape"
   ]
  },
  {
   "cell_type": "code",
   "execution_count": 20,
   "id": "366844e3",
   "metadata": {},
   "outputs": [
    {
     "data": {
      "text/plain": [
       "(98, 14)"
      ]
     },
     "execution_count": 20,
     "metadata": {},
     "output_type": "execute_result"
    }
   ],
   "source": [
    "unused_X, X_test_shap, unused_y, y_test_shap = train_test_split(X_test, y_test, test_size=0.01)\n",
    "X_test_shap.shape"
   ]
  },
  {
   "cell_type": "code",
   "execution_count": 21,
   "id": "8d5dbc28",
   "metadata": {},
   "outputs": [
    {
     "data": {
      "text/plain": [
       "SVC(probability=True)"
      ]
     },
     "execution_count": 21,
     "metadata": {},
     "output_type": "execute_result"
    }
   ],
   "source": [
    "# setup model for SHAP\n",
    "# without pipeline to be able to use SHAP\n",
    "# transform dataset before to be able to use SHAP\n",
    "X_transformed_train_shap = pd.DataFrame(preprocessor.fit_transform(X_train_shap), columns=features)\n",
    "X_transformed_test_shap = pd.DataFrame(preprocessor.fit_transform(X_test_shap), columns=features)\n",
    "svm_model = SVC(probability=True)\n",
    "svm_model.fit(X_transformed_train_shap, y_train_shap)"
   ]
  },
  {
   "cell_type": "code",
   "execution_count": 22,
   "id": "19deb55c",
   "metadata": {},
   "outputs": [
    {
     "name": "stderr",
     "output_type": "stream",
     "text": [
      "Permutation explainer: 99it [03:25,  2.17s/it]                                  \n"
     ]
    }
   ],
   "source": [
    "# use SHAP to calculate feature importances\n",
    "# transform dataset before input to \n",
    "explainer = shap.Explainer(svm_model.predict_proba, X_transformed_train_shap)\n",
    "shap_values = explainer(X_transformed_test_shap)"
   ]
  },
  {
   "cell_type": "code",
   "execution_count": 23,
   "id": "dc12f5ab",
   "metadata": {},
   "outputs": [
    {
     "data": {
      "image/png": "[encoded data removed]",
      "text/plain": [
       "<Figure size 576x511.2 with 1 Axes>"
      ]
     },
     "metadata": {
      "needs_background": "light"
     },
     "output_type": "display_data"
    }
   ],
   "source": [
    "# Visualize the feature importance for both classes\n",
    "shap.summary_plot(shap_values[:, :, 1], X_transformed_test_shap, plot_type=\"bar\", title=\"Feature Importance - Rain in Austrailia\", max_display=None)"
   ]
  },
  {
   "cell_type": "code",
   "execution_count": 27,
   "id": "da4fb163",
   "metadata": {},
   "outputs": [
    {
     "name": "stdout",
     "output_type": "stream",
     "text": [
      "['age', 'fnlwgt', 'educational-num', 'capital-gain', 'capital-loss', 'hours-per-week', 'workclass', 'education', 'marital-status', 'occupation', 'relationship', 'race', 'gender', 'native-country']\n",
      "['age', 'educational-num', 'capital-gain', 'capital-loss', 'hours-per-week', 'workclass', 'education', 'marital-status', 'occupation', 'relationship', 'race', 'gender', 'native-country']\n",
      "['age', 'fnlwgt', 'educational-num', 'capital-loss', 'hours-per-week', 'workclass', 'education', 'marital-status', 'occupation', 'relationship', 'race', 'gender', 'native-country']\n"
     ]
    }
   ],
   "source": [
    "# now drop Humidity3pm as it was the most important feature for both models\n",
    "features = numerical_features + categorical_features\n",
    "# RF\n",
    "X_train_best_removed_rf = X_train.drop(columns=['fnlwgt'])\n",
    "X_test_best_removed_rf = X_test.drop(columns=['fnlwgt'])\n",
    "features_best_removed_rf = features.copy()\n",
    "print(features)\n",
    "features_best_removed_rf.remove('fnlwgt')\n",
    "print(features_best_removed_rf)\n",
    "# SVM\n",
    "X_train_best_removed_svm = X_train.drop(columns=['capital-gain'])\n",
    "X_test_best_removed_svm = X_test.drop(columns=['capital-gain'])\n",
    "features_best_removed_svm = features.copy()\n",
    "features_best_removed_svm.remove('capital-gain')\n",
    "print(features_best_removed_svm)"
   ]
  },
  {
   "cell_type": "code",
   "execution_count": 28,
   "id": "62dfaf4b",
   "metadata": {},
   "outputs": [],
   "source": [
    "# set up column transformer\n",
    "# RF\n",
    "numerical_features_best_removed = numerical_features.copy()\n",
    "numerical_features_best_removed.remove('fnlwgt')\n",
    "preprocessor_rf = ColumnTransformer(\n",
    "    transformers=[\n",
    "        ('numerical', numeric_transformer, numerical_features_best_removed),\n",
    "        ('categorical', categorical_transformer, categorical_features)\n",
    "    ])\n",
    "\n",
    "# SVM\n",
    "numerical_features_best_removed = numerical_features.copy()\n",
    "numerical_features_best_removed.remove('capital-gain')\n",
    "preprocessor_svm = ColumnTransformer(\n",
    "    transformers=[\n",
    "        ('numerical', numeric_transformer, numerical_features_best_removed),\n",
    "        ('categorical', categorical_transformer, categorical_features)\n",
    "    ])"
   ]
  },
  {
   "cell_type": "code",
   "execution_count": 30,
   "id": "4a6ba61e",
   "metadata": {},
   "outputs": [],
   "source": [
    "# create a pipeline between preprocessor and ML models\n",
    "rf_model = Pipeline(steps=[('transformed_data', preprocessor_rf),\n",
    "                      ('classifier', RandomForestClassifier())])\n",
    "svm_model = Pipeline(steps=[('transformed_data', preprocessor_svm),\n",
    "                      ('classifier', SVC())])"
   ]
  },
  {
   "cell_type": "code",
   "execution_count": 31,
   "id": "1e57dd55",
   "metadata": {},
   "outputs": [
    {
     "data": {
      "text/plain": [
       "Pipeline(steps=[('transformed_data',\n",
       "                 ColumnTransformer(transformers=[('numerical', 'passthrough',\n",
       "                                                  ['age', 'fnlwgt',\n",
       "                                                   'educational-num',\n",
       "                                                   'capital-loss',\n",
       "                                                   'hours-per-week']),\n",
       "                                                 ('categorical',\n",
       "                                                  Pipeline(steps=[('categorical_transformer',\n",
       "                                                                   OrdinalEncoder(handle_unknown='use_encoded_value',\n",
       "                                                                                  unknown_value=-1))]),\n",
       "                                                  ['workclass', 'education',\n",
       "                                                   'marital-status',\n",
       "                                                   'occupation', 'relationship',\n",
       "                                                   'race', 'gender',\n",
       "                                                   'native-country'])])),\n",
       "                ('classifier', SVC())])"
      ]
     },
     "execution_count": 31,
     "metadata": {},
     "output_type": "execute_result"
    }
   ],
   "source": [
    "# fit the models on the best feature removed dataset\n",
    "rf_model.fit(X_train_best_removed_rf, y_train)\n",
    "svm_model.fit(X_train_best_removed_svm, y_train)"
   ]
  },
  {
   "cell_type": "code",
   "execution_count": 32,
   "id": "69a27b53",
   "metadata": {},
   "outputs": [
    {
     "name": "stdout",
     "output_type": "stream",
     "text": [
      "RF model\n",
      "accuracy: 0.8540280479066434\n",
      "recall: 0.6297726297726298\n",
      "precision: 0.7227966518956179\n",
      "f1_score: 0.6730857404860157\n"
     ]
    }
   ],
   "source": [
    "# Model evaluation for RF model\n",
    "y_pred = rf_model.predict(X_test_best_removed_rf)\n",
    "rf_accuracy = accuracy_score(y_test, y_pred)\n",
    "rf_recall = recall_score(y_test, y_pred)\n",
    "rf_precision = precision_score(y_test, y_pred)\n",
    "rf_f1score = f1_score(y_test, y_pred)\n",
    "print(f'RF model')\n",
    "print(f'accuracy: {rf_accuracy}\\nrecall: {rf_recall}\\nprecision: {rf_precision}\\nf1_score: {rf_f1score}')"
   ]
  },
  {
   "cell_type": "code",
   "execution_count": 33,
   "id": "1f46b22d",
   "metadata": {},
   "outputs": [
    {
     "data": {
      "image/png": "[encoded data removed]",
      "text/plain": [
       "<Figure size 432x288 with 2 Axes>"
      ]
     },
     "metadata": {
      "needs_background": "light"
     },
     "output_type": "display_data"
    }
   ],
   "source": [
    "# confusion matrix for RF model\n",
    "ConfusionMatrixDisplay.from_predictions(y_test, y_pred)\n",
    "plt.show()"
   ]
  },
  {
   "cell_type": "code",
   "execution_count": 34,
   "id": "b2a06510",
   "metadata": {},
   "outputs": [
    {
     "name": "stdout",
     "output_type": "stream",
     "text": [
      "SVM model\n",
      "accuracy: 0.7613880642849831\n",
      "recall: 0.0\n",
      "precision: 0.0\n",
      "f1_score: 0.0\n"
     ]
    },
    {
     "name": "stderr",
     "output_type": "stream",
     "text": [
      "Precision is ill-defined and being set to 0.0 due to no predicted samples. Use `zero_division` parameter to control this behavior.\n"
     ]
    }
   ],
   "source": [
    "# Model evaluation for SVM model\n",
    "y_pred = svm_model.predict(X_test_best_removed_svm)\n",
    "svm_accuracy = accuracy_score(y_test, y_pred)\n",
    "svm_recall = recall_score(y_test, y_pred)\n",
    "svm_precision = precision_score(y_test, y_pred)\n",
    "svm_f1score = f1_score(y_test, y_pred)\n",
    "print(f'SVM model')\n",
    "print(f'accuracy: {svm_accuracy}\\nrecall: {svm_recall}\\nprecision: {svm_precision}\\nf1_score: {svm_f1score}')"
   ]
  },
  {
   "cell_type": "code",
   "execution_count": 35,
   "id": "c03508b6",
   "metadata": {},
   "outputs": [
    {
     "data": {
      "image/png": "[encoded data removed]",
      "text/plain": [
       "<Figure size 432x288 with 2 Axes>"
      ]
     },
     "metadata": {
      "needs_background": "light"
     },
     "output_type": "display_data"
    }
   ],
   "source": [
    "# confusion matrix for SVM model\n",
    "ConfusionMatrixDisplay.from_predictions(y_test, y_pred)\n",
    "plt.show()"
   ]
  },
  {
   "cell_type": "code",
   "execution_count": 36,
   "id": "a93f8672",
   "metadata": {},
   "outputs": [
    {
     "data": {
      "image/png": "[encoded data removed]",
      "text/plain": [
       "<Figure size 432x288 with 1 Axes>"
      ]
     },
     "metadata": {
      "needs_background": "light"
     },
     "output_type": "display_data"
    }
   ],
   "source": [
    "# RF feature importance best feature removed\n",
    "rf_feature_importance = rf_model.named_steps['classifier'].feature_importances_\n",
    "\n",
    "# features = numerical_features + categorical_features\n",
    "\n",
    "forest_importances = pd.Series(rf_feature_importance, index=features_best_removed_rf)\n",
    "\n",
    "std = np.std([tree.feature_importances_ for tree in rf_model.named_steps['classifier'].estimators_], axis=0)\n",
    "\n",
    "fig, ax = plt.subplots()\n",
    "forest_importances.plot.bar(yerr=std, ax=ax)\n",
    "ax.set_title(\"Feature importances for RandomForest model\")\n",
    "ax.set_ylabel(\"Importance\")\n",
    "ax.set_xlabel(\"Features\")\n",
    "fig.tight_layout()"
   ]
  },
  {
   "cell_type": "code",
   "execution_count": 37,
   "id": "c6c0ba4b",
   "metadata": {},
   "outputs": [
    {
     "name": "stdout",
     "output_type": "stream",
     "text": [
      "age: 21.816%\n",
      "educational-num: 9.529%\n",
      "capital-gain: 12.772%\n",
      "capital-loss: 4.064%\n",
      "hours-per-week: 11.074%\n",
      "workclass: 4.87%\n",
      "education: 3.488%\n",
      "marital-status: 6.399%\n",
      "occupation: 8.357%\n",
      "relationship: 12.247%\n",
      "race: 1.737%\n",
      "gender: 1.517%\n",
      "native-country: 2.129%\n"
     ]
    }
   ],
   "source": [
    "# print feature importance for each feature in precentage for RF model\n",
    "for feature, importance in zip(features_best_removed_rf, rf_feature_importance):\n",
    "    print(f\"{feature}: {round(100*importance,3)}%\")"
   ]
  },
  {
   "cell_type": "code",
   "execution_count": 38,
   "id": "5b011f84",
   "metadata": {},
   "outputs": [
    {
     "data": {
      "text/plain": [
       "SVC(probability=True)"
      ]
     },
     "execution_count": 38,
     "metadata": {},
     "output_type": "execute_result"
    }
   ],
   "source": [
    "# dataset for shap\n",
    "X_transformed_train_shap_best_removed = X_transformed_train_shap.drop(columns=['capital-gain'])\n",
    "X_transformed_test_shap_best_removed = X_transformed_test_shap.drop(columns=['capital-gain'])\n",
    "svm_model = SVC(probability=True)\n",
    "svm_model.fit(X_transformed_train_shap_best_removed, y_train_shap)"
   ]
  },
  {
   "cell_type": "code",
   "execution_count": 39,
   "id": "bb6a365c",
   "metadata": {},
   "outputs": [
    {
     "name": "stderr",
     "output_type": "stream",
     "text": [
      "Permutation explainer: 99it [03:23,  2.14s/it]                                  \n"
     ]
    }
   ],
   "source": [
    "# use SHAP to calculate feature importances\n",
    "# transform dataset before input to \n",
    "explainer_best_removed = shap.Explainer(svm_model.predict_proba, X_transformed_train_shap_best_removed)\n",
    "shap_values_best_removed = explainer_best_removed(X_transformed_test_shap_best_removed)"
   ]
  },
  {
   "cell_type": "code",
   "execution_count": 40,
   "id": "5c72ad95",
   "metadata": {},
   "outputs": [
    {
     "data": {
      "image/png": "[encoded data removed]",
      "text/plain": [
       "<Figure size 576x482.4 with 1 Axes>"
      ]
     },
     "metadata": {
      "needs_background": "light"
     },
     "output_type": "display_data"
    }
   ],
   "source": [
    "# Visualize the feature importance for both classes\n",
    "shap.summary_plot(shap_values_best_removed[:, :, 1], X_transformed_test_shap_best_removed, plot_type=\"bar\", title=\"Feature Importance - rain\", max_display=None)"
   ]
  }
 ],
 "metadata": {
  "kernelspec": {
   "display_name": "Python 3 (ipykernel)",
   "language": "python",
   "name": "python3"
  },
  "language_info": {
   "codemirror_mode": {
    "name": "ipython",
    "version": 3
   },
   "file_extension": ".py",
   "mimetype": "text/x-python",
   "name": "python",
   "nbconvert_exporter": "python",
   "pygments_lexer": "ipython3",
   "version": "3.8.10"
  }
 },
 "nbformat": 4,
 "nbformat_minor": 5
}
